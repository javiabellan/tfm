{
 "cells": [
  {
   "cell_type": "markdown",
   "metadata": {},
   "source": [
    "# 0. Imports"
   ]
  },
  {
   "cell_type": "code",
   "execution_count": 1,
   "metadata": {},
   "outputs": [
    {
     "name": "stdout",
     "output_type": "stream",
     "text": [
      "PyTorch Version:  0.4.1\n",
      "PyTorch Version:  0.2.1\n"
     ]
    }
   ],
   "source": [
    "import torch\n",
    "import torch.nn as nn\n",
    "import torch.optim as optim\n",
    "from torch.optim import lr_scheduler\n",
    "from torch.utils.data import Dataset, DataLoader\n",
    "import torchvision\n",
    "from torchvision import transforms\n",
    "import numpy as np\n",
    "import pandas as pd\n",
    "import matplotlib.pyplot as plt\n",
    "import pathlib\n",
    "import PIL\n",
    "import time\n",
    "import os\n",
    "import copy\n",
    "print(\"PyTorch Version: \",torch.__version__)\n",
    "print(\"PyTorch Version: \",torchvision.__version__)"
   ]
  },
  {
   "cell_type": "markdown",
   "metadata": {},
   "source": [
    "## 1. Hyperparameters"
   ]
  },
  {
   "cell_type": "code",
   "execution_count": 2,
   "metadata": {},
   "outputs": [],
   "source": [
    "batch_size      = 32\n",
    "val_percent     = 0.3\n",
    "num_workers     = 4\n",
    "\n",
    "model           = \"resnet18\"\n",
    "pretrained      = True\n",
    "epochs          = 90\n",
    "learning_rate   = 0.1\n",
    "momentum        = 0.9\n",
    "weight_decay    = 1e-4\n",
    "\n",
    "gpu             = True\n",
    "multiple_gpus   = False"
   ]
  },
  {
   "cell_type": "markdown",
   "metadata": {},
   "source": [
    "# 1. Load data"
   ]
  },
  {
   "cell_type": "code",
   "execution_count": 3,
   "metadata": {},
   "outputs": [],
   "source": [
    "csv_file = pathlib.Path(\"C:/Users/Javi/Desktop/tfm/Datasets/ISIC-2017/ISIC2017_GroundTruth.csv\")\n",
    "data_dir = pathlib.Path(\"D:/Datasets/TFM/ISIC-2017_Training_Data\")"
   ]
  },
  {
   "cell_type": "code",
   "execution_count": 4,
   "metadata": {},
   "outputs": [],
   "source": [
    "class skinDataset(Dataset):\n",
    "\n",
    "\tdef __init__(self, csv_file, data_dir):\n",
    "\t\tself.labels      = pd.read_csv(csv_file)\n",
    "\t\tself.data_dir    = data_dir\n",
    "\t\tself.center_crop = transforms.CenterCrop(540)\n",
    "\t\tself.random_crop = transforms.RandomCrop(540)\n",
    "\t\tself.to_tensor   = transforms.ToTensor()\n",
    "\n",
    "\tdef __len__(self):\n",
    "\t\treturn len(self.labels)\n",
    "\n",
    "\tdef __getitem__(self, idx):\n",
    "\t\timg_name = data_dir / (self.labels.iloc[idx, 0] + \".jpg\")\n",
    "\t\timage    = PIL.Image.open(img_name)\n",
    "\t\timage    = self.center_crop(image)\n",
    "\t\timage    = self.to_tensor(image)\n",
    "\n",
    "\t\tlabel    = self.labels.iloc[idx, 1:3].values.tolist()\n",
    "\t\tif   label[0]==1.0: label = torch.tensor([1,0,0]) #\"melanoma\"\n",
    "\t\telif label[1]==1.0: label = torch.tensor([0,1,0]) #\"seborrheic_keratosis\"\n",
    "\t\telse:               label = torch.tensor([0,0,1]) #\"healthy\"\n",
    "\n",
    "\t\treturn {\"image\": image, \"label\": label}\n",
    "    \n",
    "dataset    = skinDataset(csv_file, data_dir)\n",
    "dataloader = DataLoader(dataset, batch_size=batch_size, shuffle=True, num_workers=num_workers)\n",
    "train_size = len(dataset)"
   ]
  },
  {
   "cell_type": "markdown",
   "metadata": {},
   "source": [
    "## Know minimun sizes of the images"
   ]
  },
  {
   "cell_type": "code",
   "execution_count": null,
   "metadata": {},
   "outputs": [],
   "source": [
    "sizes = {}\n",
    "\n",
    "for i in range(len(dataset)):\n",
    "\timg_name = data_dir / (dataset.labels.iloc[i, 0] + \".jpg\")\n",
    "\timage    = PIL.Image.open(img_name)\n",
    "\tsize     = image.size\n",
    "\n",
    "\tif size in sizes:\n",
    "\t\tsizes[size] += 1\n",
    "\telse:\n",
    "\t\tsizes[size] = 1"
   ]
  },
  {
   "cell_type": "code",
   "execution_count": null,
   "metadata": {},
   "outputs": [],
   "source": [
    "min_w = 10000\n",
    "min_h = 10000\n",
    "for s in sizes:\n",
    "\tif s[0] < min_w: min_w = s[0]\n",
    "\tif s[1] < min_h: min_h = s[1]\n",
    "print(\"minimun width = \", min_w)\n",
    "print(\"minimun height = \", min_h)"
   ]
  },
  {
   "cell_type": "markdown",
   "metadata": {},
   "source": [
    "## Show data"
   ]
  },
  {
   "cell_type": "code",
   "execution_count": null,
   "metadata": {},
   "outputs": [],
   "source": [
    "def imshow(sample):\n",
    "\timg = sample[\"image\"]\n",
    "\timg = img.numpy().transpose((1, 2, 0))\n",
    "\timg = np.clip(img, 0, 1)\n",
    "\tplt.imshow(img)\n",
    "\n",
    "\tlabel = sample[\"label\"]\n",
    "\tif   label.numpy()[0]==1: label = \"melanoma\"\n",
    "\telif label.numpy()[1]==1: label = \"seborrheic_keratosis\"\n",
    "\telse:                     label = \"healthy\"\n",
    "\tplt.title(label)\n",
    "\n",
    "\n",
    "imshow(dataset[22])"
   ]
  },
  {
   "cell_type": "code",
   "execution_count": null,
   "metadata": {},
   "outputs": [],
   "source": [
    "batch   = next(iter(dataloader))\n",
    "inputs  = batch['image']\n",
    "classes = batch['label']"
   ]
  }
 ],
 "metadata": {
  "kernelspec": {
   "display_name": "Python 3",
   "language": "python",
   "name": "python3"
  },
  "language_info": {
   "codemirror_mode": {
    "name": "ipython",
    "version": 3
   },
   "file_extension": ".py",
   "mimetype": "text/x-python",
   "name": "python",
   "nbconvert_exporter": "python",
   "pygments_lexer": "ipython3",
   "version": "3.6.6"
  }
 },
 "nbformat": 4,
 "nbformat_minor": 2
}
