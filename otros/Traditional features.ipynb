{
 "cells": [
  {
   "cell_type": "markdown",
   "metadata": {},
   "source": [
    "# Traditional features\n",
    "\n",
    "\n",
    "### Texture features\n",
    "\n",
    "1. First acquire the gray-level co-occurrence matrix G (2 distances, 4 angles = 2*4 = 8 matrices)\n",
    "2. Then, we employ:\n",
    "   - The angular second moment (ASM)\n",
    "   - Entropy (ENT)\n",
    "   - Contrast (CON)\n",
    "   - Correlation (COR)\n",
    "   \n",
    "\n",
    "8 matrices * 4 features each = 32 total features\n",
    "\n",
    "- [Scikit-image texture features](http://scikit-image.org/docs/0.7.0/api/skimage.feature.texture.html)\n",
    "- https://stackoverflow.com/questions/50834170/image-texture-with-skimage\n",
    "- https://stackoverflow.com/questions/51172555/greycomatrix-for-rgb-image\n",
    "- [Calculating **entropy** from GLCM of an image](https://stackoverflow.com/questions/40919936/calculating-entropy-from-glcm-of-an-image)\n",
    "- [Understanding texture properties of a grey-level co-occurrence matrix (GLCM)](https://stackoverflow.com/questions/51463436/understanding-texture-properties-of-a-grey-level-co-occurrence-matrix-glcm)\n",
    "\n",
    "\n",
    "### Color moment features\n",
    "- https://en.wikipedia.org/wiki/Color_moments\n",
    "- https://docs.scipy.org/doc/scipy/reference/generated/scipy.stats.moment.html\n",
    "- https://stackoverflow.com/questions/38182087/third-order-moment-calculation-numpy\n",
    "- https://docs.scipy.org/doc/scipy/reference/generated/scipy.stats.skew.html"
   ]
  }
 ],
 "metadata": {
  "kernelspec": {
   "display_name": "Python 3",
   "language": "python",
   "name": "python3"
  },
  "language_info": {
   "codemirror_mode": {
    "name": "ipython",
    "version": 3
   },
   "file_extension": ".py",
   "mimetype": "text/x-python",
   "name": "python",
   "nbconvert_exporter": "python",
   "pygments_lexer": "ipython3",
   "version": "3.7.1"
  }
 },
 "nbformat": 4,
 "nbformat_minor": 2
}
